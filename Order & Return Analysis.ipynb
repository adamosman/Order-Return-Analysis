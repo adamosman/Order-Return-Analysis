{
 "cells": [
  {
   "cell_type": "markdown",
   "metadata": {},
   "source": [
    "# Order & Return Analysis\n",
    "## Objective:\n",
    "Determine the return rate for orders during a given time period and provide any conlusions if possible.\n",
    "\n",
    "Note:\n",
    "\n",
    "1. Metrics are organized by months\n",
    "\n",
    "2. The data covers orders placed in the period of August - December 2016\n",
    "\n",
    "3. The data is current as of January 28, 2017"
   ]
  },
  {
   "cell_type": "markdown",
   "metadata": {},
   "source": [
    "First, any necssary libraries are loaded for the analysis. I'm using pandas because it provides a better platform to manipulate the data, including the ability to read the CSV file directly into a dataframe as opposed to working with a list of lists. A preview of the raw data is shown with the first 10 rows."
   ]
  },
  {
   "cell_type": "code",
   "execution_count": 1,
   "metadata": {},
   "outputs": [
    {
     "data": {
      "text/html": [
       "<div>\n",
       "<style>\n",
       "    .dataframe thead tr:only-child th {\n",
       "        text-align: right;\n",
       "    }\n",
       "\n",
       "    .dataframe thead th {\n",
       "        text-align: left;\n",
       "    }\n",
       "\n",
       "    .dataframe tbody tr th {\n",
       "        vertical-align: top;\n",
       "    }\n",
       "</style>\n",
       "<table border=\"1\" class=\"dataframe\">\n",
       "  <thead>\n",
       "    <tr style=\"text-align: right;\">\n",
       "      <th></th>\n",
       "      <th>dateordered</th>\n",
       "      <th>datereturned</th>\n",
       "      <th>orderstatus</th>\n",
       "      <th>orders</th>\n",
       "    </tr>\n",
       "  </thead>\n",
       "  <tbody>\n",
       "    <tr>\n",
       "      <th>0</th>\n",
       "      <td>2016-12-31</td>\n",
       "      <td>2017-01-24</td>\n",
       "      <td>returned</td>\n",
       "      <td>1</td>\n",
       "    </tr>\n",
       "    <tr>\n",
       "      <th>1</th>\n",
       "      <td>2016-12-31</td>\n",
       "      <td>NaT</td>\n",
       "      <td>complete</td>\n",
       "      <td>8</td>\n",
       "    </tr>\n",
       "    <tr>\n",
       "      <th>2</th>\n",
       "      <td>2016-12-30</td>\n",
       "      <td>NaT</td>\n",
       "      <td>complete</td>\n",
       "      <td>14</td>\n",
       "    </tr>\n",
       "    <tr>\n",
       "      <th>3</th>\n",
       "      <td>2016-12-29</td>\n",
       "      <td>NaT</td>\n",
       "      <td>complete</td>\n",
       "      <td>14</td>\n",
       "    </tr>\n",
       "    <tr>\n",
       "      <th>4</th>\n",
       "      <td>2016-12-28</td>\n",
       "      <td>2016-12-29</td>\n",
       "      <td>returned</td>\n",
       "      <td>1</td>\n",
       "    </tr>\n",
       "    <tr>\n",
       "      <th>5</th>\n",
       "      <td>2016-12-28</td>\n",
       "      <td>NaT</td>\n",
       "      <td>complete</td>\n",
       "      <td>23</td>\n",
       "    </tr>\n",
       "    <tr>\n",
       "      <th>6</th>\n",
       "      <td>2016-12-27</td>\n",
       "      <td>2017-01-28</td>\n",
       "      <td>returned</td>\n",
       "      <td>1</td>\n",
       "    </tr>\n",
       "    <tr>\n",
       "      <th>7</th>\n",
       "      <td>2016-12-27</td>\n",
       "      <td>2017-01-25</td>\n",
       "      <td>returned</td>\n",
       "      <td>1</td>\n",
       "    </tr>\n",
       "    <tr>\n",
       "      <th>8</th>\n",
       "      <td>2016-12-27</td>\n",
       "      <td>2017-01-15</td>\n",
       "      <td>returned</td>\n",
       "      <td>1</td>\n",
       "    </tr>\n",
       "    <tr>\n",
       "      <th>9</th>\n",
       "      <td>2016-12-27</td>\n",
       "      <td>2017-01-05</td>\n",
       "      <td>returned</td>\n",
       "      <td>1</td>\n",
       "    </tr>\n",
       "  </tbody>\n",
       "</table>\n",
       "</div>"
      ],
      "text/plain": [
       "  dateordered datereturned orderstatus  orders\n",
       "0  2016-12-31   2017-01-24    returned       1\n",
       "1  2016-12-31          NaT    complete       8\n",
       "2  2016-12-30          NaT    complete      14\n",
       "3  2016-12-29          NaT    complete      14\n",
       "4  2016-12-28   2016-12-29    returned       1\n",
       "5  2016-12-28          NaT    complete      23\n",
       "6  2016-12-27   2017-01-28    returned       1\n",
       "7  2016-12-27   2017-01-25    returned       1\n",
       "8  2016-12-27   2017-01-15    returned       1\n",
       "9  2016-12-27   2017-01-05    returned       1"
      ]
     },
     "execution_count": 1,
     "metadata": {},
     "output_type": "execute_result"
    }
   ],
   "source": [
    "import pandas as pd\n",
    "import numpy as np\n",
    "import datetime as dt\n",
    "import matplotlib.pyplot as plt\n",
    "%matplotlib inline\n",
    "\n",
    "data = pd.read_excel('XLS_takehome_NA_(1)_(1).xlsx')\n",
    "data.head(10)"
   ]
  },
  {
   "cell_type": "markdown",
   "metadata": {},
   "source": [
    "## Date Conversion\n",
    "Since metrics are to be measured by months, it was important to assign a month value to each of the order entries. The timestamps for both completed and returned orders contained the month in which the order was made but it did not allow for convenient subsetting of the data.  \n",
    "\n",
    "The function `date_convert` reads the timestamp value found in the `dateordered` and `datereturned` columns. It parses out the numerical month value and converts it to a string of the month's full name. The corresponding months are then appended to the dataframe in new columns labeled `monthordered` and `monthreturned`. Any `NaT` values are changed to a `None` value in the `monthreturned` column"
   ]
  },
  {
   "cell_type": "code",
   "execution_count": 2,
   "metadata": {},
   "outputs": [
    {
     "data": {
      "text/html": [
       "<div>\n",
       "<style>\n",
       "    .dataframe thead tr:only-child th {\n",
       "        text-align: right;\n",
       "    }\n",
       "\n",
       "    .dataframe thead th {\n",
       "        text-align: left;\n",
       "    }\n",
       "\n",
       "    .dataframe tbody tr th {\n",
       "        vertical-align: top;\n",
       "    }\n",
       "</style>\n",
       "<table border=\"1\" class=\"dataframe\">\n",
       "  <thead>\n",
       "    <tr style=\"text-align: right;\">\n",
       "      <th></th>\n",
       "      <th>dateordered</th>\n",
       "      <th>datereturned</th>\n",
       "      <th>orderstatus</th>\n",
       "      <th>orders</th>\n",
       "      <th>monthordered</th>\n",
       "      <th>monthreturned</th>\n",
       "    </tr>\n",
       "  </thead>\n",
       "  <tbody>\n",
       "    <tr>\n",
       "      <th>0</th>\n",
       "      <td>2016-12-31</td>\n",
       "      <td>2017-01-24</td>\n",
       "      <td>returned</td>\n",
       "      <td>1</td>\n",
       "      <td>December</td>\n",
       "      <td>January</td>\n",
       "    </tr>\n",
       "    <tr>\n",
       "      <th>1</th>\n",
       "      <td>2016-12-31</td>\n",
       "      <td>NaT</td>\n",
       "      <td>complete</td>\n",
       "      <td>8</td>\n",
       "      <td>December</td>\n",
       "      <td>None</td>\n",
       "    </tr>\n",
       "    <tr>\n",
       "      <th>2</th>\n",
       "      <td>2016-12-30</td>\n",
       "      <td>NaT</td>\n",
       "      <td>complete</td>\n",
       "      <td>14</td>\n",
       "      <td>December</td>\n",
       "      <td>None</td>\n",
       "    </tr>\n",
       "    <tr>\n",
       "      <th>3</th>\n",
       "      <td>2016-12-29</td>\n",
       "      <td>NaT</td>\n",
       "      <td>complete</td>\n",
       "      <td>14</td>\n",
       "      <td>December</td>\n",
       "      <td>None</td>\n",
       "    </tr>\n",
       "    <tr>\n",
       "      <th>4</th>\n",
       "      <td>2016-12-28</td>\n",
       "      <td>2016-12-29</td>\n",
       "      <td>returned</td>\n",
       "      <td>1</td>\n",
       "      <td>December</td>\n",
       "      <td>December</td>\n",
       "    </tr>\n",
       "    <tr>\n",
       "      <th>5</th>\n",
       "      <td>2016-12-28</td>\n",
       "      <td>NaT</td>\n",
       "      <td>complete</td>\n",
       "      <td>23</td>\n",
       "      <td>December</td>\n",
       "      <td>None</td>\n",
       "    </tr>\n",
       "    <tr>\n",
       "      <th>6</th>\n",
       "      <td>2016-12-27</td>\n",
       "      <td>2017-01-28</td>\n",
       "      <td>returned</td>\n",
       "      <td>1</td>\n",
       "      <td>December</td>\n",
       "      <td>January</td>\n",
       "    </tr>\n",
       "    <tr>\n",
       "      <th>7</th>\n",
       "      <td>2016-12-27</td>\n",
       "      <td>2017-01-25</td>\n",
       "      <td>returned</td>\n",
       "      <td>1</td>\n",
       "      <td>December</td>\n",
       "      <td>January</td>\n",
       "    </tr>\n",
       "    <tr>\n",
       "      <th>8</th>\n",
       "      <td>2016-12-27</td>\n",
       "      <td>2017-01-15</td>\n",
       "      <td>returned</td>\n",
       "      <td>1</td>\n",
       "      <td>December</td>\n",
       "      <td>January</td>\n",
       "    </tr>\n",
       "    <tr>\n",
       "      <th>9</th>\n",
       "      <td>2016-12-27</td>\n",
       "      <td>2017-01-05</td>\n",
       "      <td>returned</td>\n",
       "      <td>1</td>\n",
       "      <td>December</td>\n",
       "      <td>January</td>\n",
       "    </tr>\n",
       "  </tbody>\n",
       "</table>\n",
       "</div>"
      ],
      "text/plain": [
       "  dateordered datereturned orderstatus  orders monthordered monthreturned\n",
       "0  2016-12-31   2017-01-24    returned       1     December       January\n",
       "1  2016-12-31          NaT    complete       8     December          None\n",
       "2  2016-12-30          NaT    complete      14     December          None\n",
       "3  2016-12-29          NaT    complete      14     December          None\n",
       "4  2016-12-28   2016-12-29    returned       1     December      December\n",
       "5  2016-12-28          NaT    complete      23     December          None\n",
       "6  2016-12-27   2017-01-28    returned       1     December       January\n",
       "7  2016-12-27   2017-01-25    returned       1     December       January\n",
       "8  2016-12-27   2017-01-15    returned       1     December       January\n",
       "9  2016-12-27   2017-01-05    returned       1     December       January"
      ]
     },
     "execution_count": 2,
     "metadata": {},
     "output_type": "execute_result"
    }
   ],
   "source": [
    "def date_convert(x):\n",
    "    if pd.isnull(x) is False:\n",
    "        order_month = dt.datetime.strptime(str(x.month),'%m')\n",
    "        order_month = order_month.strftime('%B')\n",
    "    else:\n",
    "        return None\n",
    "    return order_month\n",
    "    \n",
    "data['monthordered'] = data['dateordered'].apply(date_convert)\n",
    "data['monthreturned'] = data['datereturned'].apply(date_convert)\n",
    "data.head(10)"
   ]
  },
  {
   "cell_type": "markdown",
   "metadata": {},
   "source": [
    "## Data Processing:\n",
    "### Formatting the data\n",
    "In order to understand how the return rate changed over the given time period, the data needs to be filtered and analyzed. I use the pivot table features from pandas because it allows for most flexibility and applying calculations to subsets of the data. If I weren't to use pandas and pivot tables, the following code is an example of how I would calculate the total returns for each month based on the order month. It returns a dictionary with the months as keys and total returns as values: "
   ]
  },
  {
   "cell_type": "code",
   "execution_count": 3,
   "metadata": {},
   "outputs": [
    {
     "data": {
      "text/plain": [
       "{'August': 10, 'December': 19, 'November': 12, 'October': 10, 'September': 9}"
      ]
     },
     "execution_count": 3,
     "metadata": {},
     "output_type": "execute_result"
    }
   ],
   "source": [
    "months = ['August',\n",
    "          'September',\n",
    "          'October',\n",
    "          'November',\n",
    "          'December',]\n",
    "returns_by_month = {}\n",
    "for month in months:\n",
    "    mth = data[(data['monthordered'] == month) & (data['orderstatus'] == 'returned')]\n",
    "    rtrn = mth['orders']\n",
    "    returns_by_month[month] = rtrn.sum()\n",
    "returns_by_month"
   ]
  },
  {
   "cell_type": "markdown",
   "metadata": {},
   "source": [
    "The pivot table below helps to break down total number of returns and completed orders for each month. This dataframe gives a little more insight into how the return orders changed relative to the total amount. "
   ]
  },
  {
   "cell_type": "code",
   "execution_count": 4,
   "metadata": {
    "collapsed": true
   },
   "outputs": [],
   "source": [
    "data_returns_rate = data.pivot_table(index = ['monthordered','orderstatus'],\n",
    "                                     values=['orders'],\n",
    "                                     aggfunc= np.sum)\n",
    "data_returns_rate = data_returns_rate.reindex(['August',\n",
    "                                               'September',\n",
    "                                               'October',\n",
    "                                               'November',\n",
    "                                               'December',\n",
    "                                               'January'],level=0)"
   ]
  },
  {
   "cell_type": "code",
   "execution_count": 5,
   "metadata": {},
   "outputs": [
    {
     "data": {
      "text/html": [
       "<div>\n",
       "<style>\n",
       "    .dataframe thead tr:only-child th {\n",
       "        text-align: right;\n",
       "    }\n",
       "\n",
       "    .dataframe thead th {\n",
       "        text-align: left;\n",
       "    }\n",
       "\n",
       "    .dataframe tbody tr th {\n",
       "        vertical-align: top;\n",
       "    }\n",
       "</style>\n",
       "<table border=\"1\" class=\"dataframe\">\n",
       "  <thead>\n",
       "    <tr style=\"text-align: right;\">\n",
       "      <th></th>\n",
       "      <th></th>\n",
       "      <th>orders</th>\n",
       "    </tr>\n",
       "    <tr>\n",
       "      <th>monthordered</th>\n",
       "      <th>orderstatus</th>\n",
       "      <th></th>\n",
       "    </tr>\n",
       "  </thead>\n",
       "  <tbody>\n",
       "    <tr>\n",
       "      <th rowspan=\"2\" valign=\"top\">August</th>\n",
       "      <th>complete</th>\n",
       "      <td>139</td>\n",
       "    </tr>\n",
       "    <tr>\n",
       "      <th>returned</th>\n",
       "      <td>10</td>\n",
       "    </tr>\n",
       "    <tr>\n",
       "      <th rowspan=\"2\" valign=\"top\">September</th>\n",
       "      <th>complete</th>\n",
       "      <td>134</td>\n",
       "    </tr>\n",
       "    <tr>\n",
       "      <th>returned</th>\n",
       "      <td>9</td>\n",
       "    </tr>\n",
       "    <tr>\n",
       "      <th rowspan=\"2\" valign=\"top\">October</th>\n",
       "      <th>complete</th>\n",
       "      <td>170</td>\n",
       "    </tr>\n",
       "    <tr>\n",
       "      <th>returned</th>\n",
       "      <td>10</td>\n",
       "    </tr>\n",
       "    <tr>\n",
       "      <th rowspan=\"2\" valign=\"top\">November</th>\n",
       "      <th>complete</th>\n",
       "      <td>214</td>\n",
       "    </tr>\n",
       "    <tr>\n",
       "      <th>returned</th>\n",
       "      <td>12</td>\n",
       "    </tr>\n",
       "    <tr>\n",
       "      <th rowspan=\"2\" valign=\"top\">December</th>\n",
       "      <th>complete</th>\n",
       "      <td>376</td>\n",
       "    </tr>\n",
       "    <tr>\n",
       "      <th>returned</th>\n",
       "      <td>19</td>\n",
       "    </tr>\n",
       "  </tbody>\n",
       "</table>\n",
       "</div>"
      ],
      "text/plain": [
       "                          orders\n",
       "monthordered orderstatus        \n",
       "August       complete        139\n",
       "             returned         10\n",
       "September    complete        134\n",
       "             returned          9\n",
       "October      complete        170\n",
       "             returned         10\n",
       "November     complete        214\n",
       "             returned         12\n",
       "December     complete        376\n",
       "             returned         19"
      ]
     },
     "execution_count": 5,
     "metadata": {},
     "output_type": "execute_result"
    }
   ],
   "source": [
    "data_returns_rate"
   ]
  },
  {
   "cell_type": "markdown",
   "metadata": {},
   "source": [
    "### Calculating the return rate per month\n",
    "The return rate for each month can be determined by finding the ratio between the returns in a month based off the order date and the sum total of these returns and the completed orders for that month. Since there is no order data for January, it is not included in the calculations. The function `return_rate` calculates this for each month and returns the rate as a percentage."
   ]
  },
  {
   "cell_type": "code",
   "execution_count": 6,
   "metadata": {
    "collapsed": true
   },
   "outputs": [],
   "source": [
    "def return_rate(x):\n",
    "    index = 0\n",
    "    total = pd.Series()\n",
    "    for row in range(0,int(len(x)/2)):\n",
    "        rate = (x.iloc[index+1]/(x.iloc[index+1]+x.iloc[index]))*100\n",
    "        index += 2\n",
    "        total.set_value(row,rate)\n",
    "    return total\n",
    "\n",
    "total_returns_rate = data_returns_rate.apply(return_rate)\n",
    "total_returns_rate = total_returns_rate.rename(index={0:'August',\n",
    "                                                      1:'September',\n",
    "                                                      2:'October',\n",
    "                                                      3:'November',\n",
    "                                                      4:'December'},\n",
    "                                               columns={'orders':'Return Rate (%)'})"
   ]
  },
  {
   "cell_type": "code",
   "execution_count": 7,
   "metadata": {},
   "outputs": [
    {
     "data": {
      "text/html": [
       "<div>\n",
       "<style>\n",
       "    .dataframe thead tr:only-child th {\n",
       "        text-align: right;\n",
       "    }\n",
       "\n",
       "    .dataframe thead th {\n",
       "        text-align: left;\n",
       "    }\n",
       "\n",
       "    .dataframe tbody tr th {\n",
       "        vertical-align: top;\n",
       "    }\n",
       "</style>\n",
       "<table border=\"1\" class=\"dataframe\">\n",
       "  <thead>\n",
       "    <tr style=\"text-align: right;\">\n",
       "      <th></th>\n",
       "      <th>Return Rate (%)</th>\n",
       "    </tr>\n",
       "  </thead>\n",
       "  <tbody>\n",
       "    <tr>\n",
       "      <th>August</th>\n",
       "      <td>6.711409</td>\n",
       "    </tr>\n",
       "    <tr>\n",
       "      <th>September</th>\n",
       "      <td>6.293706</td>\n",
       "    </tr>\n",
       "    <tr>\n",
       "      <th>October</th>\n",
       "      <td>5.555556</td>\n",
       "    </tr>\n",
       "    <tr>\n",
       "      <th>November</th>\n",
       "      <td>5.309735</td>\n",
       "    </tr>\n",
       "    <tr>\n",
       "      <th>December</th>\n",
       "      <td>4.810127</td>\n",
       "    </tr>\n",
       "  </tbody>\n",
       "</table>\n",
       "</div>"
      ],
      "text/plain": [
       "           Return Rate (%)\n",
       "August            6.711409\n",
       "September         6.293706\n",
       "October           5.555556\n",
       "November          5.309735\n",
       "December          4.810127"
      ]
     },
     "execution_count": 7,
     "metadata": {},
     "output_type": "execute_result"
    }
   ],
   "source": [
    "total_returns_rate"
   ]
  },
  {
   "cell_type": "markdown",
   "metadata": {},
   "source": [
    "## Findings:\n",
    "The chart below shows the return rate has exhibited a decreasing trend for each month between Aug.'16 to Dec.'16. On average, the return rate is decreasing at .47% per month with the largest drop of .75% occurring between September and October. Although this data only represents 5 months out of the year, the decreasing trend is possibly indicative of customers becoming more comfortable with the product as they have more time to experience it."
   ]
  },
  {
   "cell_type": "code",
   "execution_count": 8,
   "metadata": {},
   "outputs": [
    {
     "data": {
      "text/plain": [
       "(0, 8)"
      ]
     },
     "execution_count": 8,
     "metadata": {},
     "output_type": "execute_result"
    },
    {
     "data": {
      "image/png": "[encoded data removed]",
      "text/plain": [
       "<matplotlib.figure.Figure at 0x115d30390>"
      ]
     },
     "metadata": {},
     "output_type": "display_data"
    }
   ],
   "source": [
    "ax1 = total_returns_rate.plot(legend=False)\n",
    "ax1.set_ylabel('Return Rate (%)')\n",
    "ax1.set_title('Return Rate from Aug.\\'16 to Dec.\\'16')\n",
    "ax1.set_ylim(0,8)"
   ]
  },
  {
   "cell_type": "markdown",
   "metadata": {},
   "source": [
    "In addition to calculating the return rate, I was curious about understanding some other characteristics of the data. Namely, how long a customer waited before initiating a return and which months possessed the most returns. The histogram shows a collection of the number of days that customers spent with the product before initiating a return. Since customers have 100 days before they can receive a full refund, we would expect the bulk of the data to be less than this limit. The chart shows that a majority of the customers spent less than 60 days with the product before initiating a return. "
   ]
  },
  {
   "cell_type": "code",
   "execution_count": 9,
   "metadata": {},
   "outputs": [
    {
     "data": {
      "text/plain": [
       "<matplotlib.text.Text at 0x1183f2860>"
      ]
     },
     "execution_count": 9,
     "metadata": {},
     "output_type": "execute_result"
    },
    {
     "data": {
      "image/png": "[encoded data removed]",
      "text/plain": [
       "<matplotlib.figure.Figure at 0x115de0048>"
      ]
     },
     "metadata": {},
     "output_type": "display_data"
    }
   ],
   "source": [
    "returns = data[data['orderstatus'] == 'returned']\n",
    "returns_length = ((returns['datereturned']-returns['dateordered'])/np.timedelta64(1, 'D')).astype(int)\n",
    "\n",
    "ax2 = returns_length.hist(bins = 10)\n",
    "ax2.set_xlabel('Days')\n",
    "ax2.set_ylabel('Frequency')\n",
    "ax2.set_title('Days Spent With Product Before Return')"
   ]
  },
  {
   "cell_type": "markdown",
   "metadata": {},
   "source": [
    "Finally, I wanted to look at how both the returns and completed orders changed for each month. The chart below shows that while the number of returns grew at approximately 3.2 returns/month, completed orders increased at nearly 13 times that rate with 61.5 orders/month. It can be inferred that this increase--potentially influenced by the holiday shopping season-- is the cause for the increased number of returns during the given time period. "
   ]
  },
  {
   "cell_type": "code",
   "execution_count": 10,
   "metadata": {
    "collapsed": true
   },
   "outputs": [],
   "source": [
    "returns_table = data.pivot_table(index = ['monthreturned'],\n",
    "                                 values=['orders'],\n",
    "                                 aggfunc= np.sum)\n",
    "returns_table = returns_table.reindex(['August',\n",
    "                                       'September',\n",
    "                                       'October',\n",
    "                                       'November',\n",
    "                                       'December',\n",
    "                                       'January'])\n",
    "completes = data[data['orderstatus'] == 'complete']\n",
    "completes_table = data.pivot_table(index = ['monthordered'],\n",
    "                                   values=['orders'],\n",
    "                                   aggfunc= np.sum)\n",
    "\n",
    "completes_table = completes_table.reindex(['August',\n",
    "                                           'September',\n",
    "                                           'October',\n",
    "                                           'November',\n",
    "                                           'December',\n",
    "                                           'January'])"
   ]
  },
  {
   "cell_type": "code",
   "execution_count": 11,
   "metadata": {},
   "outputs": [
    {
     "data": {
      "text/html": [
       "<div>\n",
       "<style>\n",
       "    .dataframe thead tr:only-child th {\n",
       "        text-align: right;\n",
       "    }\n",
       "\n",
       "    .dataframe thead th {\n",
       "        text-align: left;\n",
       "    }\n",
       "\n",
       "    .dataframe tbody tr th {\n",
       "        vertical-align: top;\n",
       "    }\n",
       "</style>\n",
       "<table border=\"1\" class=\"dataframe\">\n",
       "  <thead>\n",
       "    <tr style=\"text-align: right;\">\n",
       "      <th></th>\n",
       "      <th>orders</th>\n",
       "    </tr>\n",
       "    <tr>\n",
       "      <th>monthreturned</th>\n",
       "      <th></th>\n",
       "    </tr>\n",
       "  </thead>\n",
       "  <tbody>\n",
       "    <tr>\n",
       "      <th>August</th>\n",
       "      <td>1</td>\n",
       "    </tr>\n",
       "    <tr>\n",
       "      <th>September</th>\n",
       "      <td>2</td>\n",
       "    </tr>\n",
       "    <tr>\n",
       "      <th>October</th>\n",
       "      <td>8</td>\n",
       "    </tr>\n",
       "    <tr>\n",
       "      <th>November</th>\n",
       "      <td>13</td>\n",
       "    </tr>\n",
       "    <tr>\n",
       "      <th>December</th>\n",
       "      <td>19</td>\n",
       "    </tr>\n",
       "    <tr>\n",
       "      <th>January</th>\n",
       "      <td>17</td>\n",
       "    </tr>\n",
       "  </tbody>\n",
       "</table>\n",
       "</div>"
      ],
      "text/plain": [
       "               orders\n",
       "monthreturned        \n",
       "August              1\n",
       "September           2\n",
       "October             8\n",
       "November           13\n",
       "December           19\n",
       "January            17"
      ]
     },
     "execution_count": 11,
     "metadata": {},
     "output_type": "execute_result"
    }
   ],
   "source": [
    "returns_table"
   ]
  },
  {
   "cell_type": "code",
   "execution_count": 12,
   "metadata": {},
   "outputs": [
    {
     "data": {
      "text/html": [
       "<div>\n",
       "<style>\n",
       "    .dataframe thead tr:only-child th {\n",
       "        text-align: right;\n",
       "    }\n",
       "\n",
       "    .dataframe thead th {\n",
       "        text-align: left;\n",
       "    }\n",
       "\n",
       "    .dataframe tbody tr th {\n",
       "        vertical-align: top;\n",
       "    }\n",
       "</style>\n",
       "<table border=\"1\" class=\"dataframe\">\n",
       "  <thead>\n",
       "    <tr style=\"text-align: right;\">\n",
       "      <th></th>\n",
       "      <th>orders</th>\n",
       "    </tr>\n",
       "    <tr>\n",
       "      <th>monthordered</th>\n",
       "      <th></th>\n",
       "    </tr>\n",
       "  </thead>\n",
       "  <tbody>\n",
       "    <tr>\n",
       "      <th>August</th>\n",
       "      <td>149.0</td>\n",
       "    </tr>\n",
       "    <tr>\n",
       "      <th>September</th>\n",
       "      <td>143.0</td>\n",
       "    </tr>\n",
       "    <tr>\n",
       "      <th>October</th>\n",
       "      <td>180.0</td>\n",
       "    </tr>\n",
       "    <tr>\n",
       "      <th>November</th>\n",
       "      <td>226.0</td>\n",
       "    </tr>\n",
       "    <tr>\n",
       "      <th>December</th>\n",
       "      <td>395.0</td>\n",
       "    </tr>\n",
       "    <tr>\n",
       "      <th>January</th>\n",
       "      <td>NaN</td>\n",
       "    </tr>\n",
       "  </tbody>\n",
       "</table>\n",
       "</div>"
      ],
      "text/plain": [
       "              orders\n",
       "monthordered        \n",
       "August         149.0\n",
       "September      143.0\n",
       "October        180.0\n",
       "November       226.0\n",
       "December       395.0\n",
       "January          NaN"
      ]
     },
     "execution_count": 12,
     "metadata": {},
     "output_type": "execute_result"
    }
   ],
   "source": [
    "completes_table"
   ]
  },
  {
   "cell_type": "code",
   "execution_count": 13,
   "metadata": {},
   "outputs": [
    {
     "data": {
      "text/plain": [
       "orders    3.2\n",
       "dtype: float64"
      ]
     },
     "execution_count": 13,
     "metadata": {},
     "output_type": "execute_result"
    }
   ],
   "source": [
    "# Calculations for determining returns the rate of change\n",
    "(returns_table.iloc[-1]-returns_table.iloc[0])/(returns_table.shape[0]-1)"
   ]
  },
  {
   "cell_type": "code",
   "execution_count": 14,
   "metadata": {},
   "outputs": [
    {
     "data": {
      "text/plain": [
       "orders    61.5\n",
       "dtype: float64"
      ]
     },
     "execution_count": 14,
     "metadata": {},
     "output_type": "execute_result"
    }
   ],
   "source": [
    "# Calculations for determining the completed orders rate of change\n",
    "(completes_table.iloc[-2]-completes_table.iloc[0])/(completes_table.shape[0]-2)"
   ]
  },
  {
   "cell_type": "code",
   "execution_count": 15,
   "metadata": {},
   "outputs": [
    {
     "data": {
      "image/png": "[encoded data removed]",
      "text/plain": [
       "<matplotlib.figure.Figure at 0x115dd5cf8>"
      ]
     },
     "metadata": {},
     "output_type": "display_data"
    }
   ],
   "source": [
    "n_groups = 6\n",
    "fig, ax = plt.subplots()\n",
    "index = np.arange(n_groups)\n",
    "bar_width = 0.4\n",
    "opacity = 0.6\n",
    "\n",
    "returns_bar = plt.bar(index, \n",
    "                      returns_table['orders'][:6],\n",
    "                      bar_width,\n",
    "                      alpha=opacity,\n",
    "                      color='b',\n",
    "                      label='Returns')\n",
    "\n",
    "completes_bar = plt.bar(index + bar_width,\n",
    "                        completes_table['orders'][:6],\n",
    "                        bar_width,\n",
    "                        alpha=opacity,\n",
    "                        color='r',\n",
    "                        label='Completes')\n",
    "plt.xlabel('Month')\n",
    "plt.ylabel('Number of Orders')\n",
    "plt.title('Completed Orders/Returns from Aug.\\'16 to Dec.\\'16')\n",
    "plt.xticks(index + bar_width, ('August',\n",
    "                               'September',\n",
    "                               'October',\n",
    "                               'November',\n",
    "                               'December',\n",
    "                               'January'))\n",
    "plt.legend()\n",
    "plt.show()"
   ]
  }
 ],
 "metadata": {
  "kernelspec": {
   "display_name": "Python 3",
   "language": "python",
   "name": "python3"
  },
  "language_info": {
   "codemirror_mode": {
    "name": "ipython",
    "version": 3
   },
   "file_extension": ".py",
   "mimetype": "text/x-python",
   "name": "python",
   "nbconvert_exporter": "python",
   "pygments_lexer": "ipython3",
   "version": "3.6.1"
  }
 },
 "nbformat": 4,
 "nbformat_minor": 2
}
